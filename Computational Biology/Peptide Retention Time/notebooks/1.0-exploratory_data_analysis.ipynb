{
 "cells": [
  {
   "attachments": {},
   "cell_type": "markdown",
   "metadata": {},
   "source": [
    "<center>\n",
    "<h1>Exploratory Data Analysis</h1>\n",
    "</center>\n",
    "\n",
    "---\n",
    "\n",
    "This is a first exploration of the data with the goal to gather some simple statistics and insights into the data."
   ]
  },
  {
   "cell_type": "code",
   "execution_count": null,
   "metadata": {},
   "outputs": [],
   "source": [
    "import os\n",
    "import sys \n",
    "import matplotlib.pyplot as plt\n",
    "import seaborn as sns\n",
    "import pandas as pd\n",
    "import numpy as np\n",
    "import re\n",
    "\n",
    "sns.set_style('darkgrid')\n",
    "\n",
    "sys.path.append(\"..\")\n",
    "from src.data import replace_mod"
   ]
  },
  {
   "cell_type": "code",
   "execution_count": null,
   "metadata": {},
   "outputs": [],
   "source": [
    "data = pd.read_csv(\"../data/Peptides_and_iRT.tsv\", sep=r'\\t')\n",
    "data.columns=[\"sequence_raw\", \"iRT\"]\n",
    "data.head(15)"
   ]
  },
  {
   "cell_type": "code",
   "execution_count": null,
   "metadata": {},
   "outputs": [],
   "source": [
    "print(f\"We have {len(data)} data points with iRTs ranging from {data.iRT.min()} to {data.iRT.max()}.\")\n",
    "print(f\"The data has mean and standard deviation of {data.iRT.mean()} ± {data.iRT.std()}\")\n",
    "print(f\"The central 99% quantile has a range of {np.round(data.iRT.quantile(0.005),3)} to {np.round(data.iRT.quantile(0.995), 3)}.\")"
   ]
  },
  {
   "cell_type": "code",
   "execution_count": null,
   "metadata": {},
   "outputs": [],
   "source": [
    "rows_duplicate = data.duplicated().sum()\n",
    "print(\"Number of duplicate entries:\", rows_duplicate)"
   ]
  },
  {
   "cell_type": "code",
   "execution_count": null,
   "metadata": {},
   "outputs": [],
   "source": [
    "data.isna().mean().sort_values()"
   ]
  },
  {
   "cell_type": "code",
   "execution_count": null,
   "metadata": {},
   "outputs": [],
   "source": [
    "plt.figure(figsize=(8,8))\n",
    "\n",
    "data.hist(color=\"darkred\",bins=45)\n",
    "\n",
    "plt.xlabel(\"iRT\")\n",
    "\n",
    "plt.tight_layout()\n",
    "plt.show()"
   ]
  },
  {
   "cell_type": "markdown",
   "metadata": {},
   "source": [
    "## Derive some features from the peptide sequence"
   ]
  },
  {
   "cell_type": "code",
   "execution_count": null,
   "metadata": {},
   "outputs": [],
   "source": [
    "data[\"sequence_length\"] = data[\"sequence_raw\"].apply(len)\n",
    "data[\"is_mod\"] = data[\"sequence_raw\"].str.contains(\"\\[\").astype(int)\n",
    "\n",
    "mod_index = data.query(\"is_mod == 1\").index\n",
    "re_mod = re.compile(r\"\\[[\\+A-Za-z0-9]+\\]\")\n",
    "data.loc[mod_index, \"modification\"] = data.query(\"is_mod == 1\")[\"sequence_raw\"].str.findall(re_mod)"
   ]
  },
  {
   "cell_type": "code",
   "execution_count": null,
   "metadata": {},
   "outputs": [],
   "source": [
    "max_mod = data.loc[mod_index, \"modification\"].apply(len).max()\n",
    "modification_types = data.query(\"is_mod == 1\")[\"modification\"].explode().unique()\n",
    "\n",
    "print(\"We have up to {0:1d} modified AAs and {1:1d} types of modifications. We can use those as features.\".format(max_mod, len(modification_types)))\n",
    "\n",
    "print(\"Modifications:\", modification_types)"
   ]
  },
  {
   "cell_type": "code",
   "execution_count": null,
   "metadata": {},
   "outputs": [],
   "source": [
    "plt.figure()\n",
    "\n",
    "\n",
    "amino_df = data[\"sequence_raw\"].apply(lambda s: replace_mod(s, modification_types)).explode()\n",
    "(amino_df.value_counts()).plot.bar(color='darkred', figsize=(8,8),rot=45)\n",
    "\n",
    "plt.xlabel(\"Amino Acid\")\n",
    "\n",
    "plt.title(\"Amino acid frequencies\")\n",
    "plt.tight_layout()\n",
    "\n",
    "plt.show()"
   ]
  },
  {
   "cell_type": "code",
   "execution_count": null,
   "metadata": {},
   "outputs": [],
   "source": [
    "data[\"sequence_raw\"].apply(lambda s: replace_mod(s, modification_types))"
   ]
  },
  {
   "cell_type": "code",
   "execution_count": null,
   "metadata": {},
   "outputs": [],
   "source": [
    "plt.figure()\n",
    "\n",
    "data.hist(color=\"darkred\",bins=30, figsize=(8,8))\n",
    "\n",
    "plt.tight_layout()\n",
    "plt.show()"
   ]
  },
  {
   "cell_type": "markdown",
   "metadata": {},
   "source": [
    "## See if there are any obvious correlations"
   ]
  },
  {
   "cell_type": "code",
   "execution_count": null,
   "metadata": {},
   "outputs": [],
   "source": [
    "feat_correlations = data.fillna(-1).corr(method=\"pearson\")\n",
    "\n",
    "plt.figure(figsize=(10,10))\n",
    "sns.heatmap(feat_correlations,\n",
    "           square=True,\n",
    "           center=0,\n",
    "           annot=np.round(feat_correlations,3),\n",
    "           fmt=\"\",\n",
    "           linewidths=.5,\n",
    "           cmap=\"vlag\",\n",
    "           cbar_kws={\"shrink\": 0.8},)\n",
    "\n",
    "plt.tight_layout()\n",
    "plt.show()"
   ]
  },
  {
   "cell_type": "code",
   "execution_count": null,
   "metadata": {},
   "outputs": [],
   "source": [
    "data[\"iRT_normed\"] = (data[\"iRT\"] - data[\"iRT\"].mean()) / (data[\"iRT\"].std()) "
   ]
  },
  {
   "cell_type": "code",
   "execution_count": null,
   "metadata": {},
   "outputs": [],
   "source": [
    "data[\"iRT_scaled\"] = (data[\"iRT\"] - data[\"iRT\"].min()) / (data[\"iRT\"].max() - data[\"iRT\"].min()) "
   ]
  },
  {
   "cell_type": "markdown",
   "metadata": {},
   "source": [
    "## Conclusions\n",
    "\n",
    "A first glance at the data has revealed some simple correlations between the sequence length and the iRT, but more feature engineering seems to be appropriate.\n",
    "\n",
    "Since the iRT can be negative, there are no obvious faulty data points (duplicates, missing values). Only a few outliers with large and negative iRT are in the dataset. We might want to remove them later for training ML models.\n",
    "\n",
    "Modifications of the AAs occur only on M[+O] and C[+C2+H3+N+O], the latter of which only occurs in a modified state.\n",
    "\n",
    "\n",
    "### Code export:\n",
    "\n",
    "The results of this notebook have been written to `src/data/data_ingestion.py`"
   ]
  }
 ],
 "metadata": {
  "kernelspec": {
   "display_name": "Python 3.9.13 ('peptide')",
   "language": "python",
   "name": "python3"
  },
  "language_info": {
   "codemirror_mode": {
    "name": "ipython",
    "version": 3
   },
   "file_extension": ".py",
   "mimetype": "text/x-python",
   "name": "python",
   "nbconvert_exporter": "python",
   "pygments_lexer": "ipython3"
  },
  "vscode": {
   "interpreter": {
    "hash": "7eaae0a3819f9c24bdd2f13cf6f8ff7c943e8ce1e4be6c4dc6c10c30cd9c8dc8"
   }
  }
 },
 "nbformat": 4,
 "nbformat_minor": 2
}
