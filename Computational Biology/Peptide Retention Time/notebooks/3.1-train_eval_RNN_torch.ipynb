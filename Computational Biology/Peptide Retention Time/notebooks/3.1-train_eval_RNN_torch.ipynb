{
 "cells": [
  {
   "attachments": {},
   "cell_type": "markdown",
   "metadata": {},
   "source": [
    "<center>\n",
    "<h1>Recurrent Neural Network</h1>\n",
    "</center>\n",
    "\n",
    "---\n",
    "\n",
    "Another type of deep learning model are RNNs, which promises to yield better results since they are capable of taking into account the order of tokens, i.e. AAs, in a sequence. This distinguishes them from LightGBM and MLPs. For the sake of brevity, we only consider GRUs, but LSTMs could also be explored."
   ]
  },
  {
   "cell_type": "code",
   "execution_count": null,
   "metadata": {},
   "outputs": [],
   "source": [
    "import os\n",
    "import sys \n",
    "import matplotlib.pyplot as plt\n",
    "import seaborn as sns\n",
    "import pandas as pd\n",
    "import numpy as np\n",
    "import torch\n",
    "import mlflow\n",
    "mlflow.autolog()\n",
    "mlflow.set_experiment(\"Peptide retention time regression\")\n",
    "sns.set_style(\"darkgrid\")\n",
    "\n",
    "sys.path.append(\"..\")\n",
    "from src.data import load_data, preprocess_data, PeptideDataset\n",
    "from src.models import LGBMModelHandler\n",
    "from src.util import  rMAE, rMSE\n",
    "from src.models import  RNN, TorchModelHandler\n",
    "\n",
    "\n",
    "%load_ext autoreload\n",
    "%autoreload 2"
   ]
  },
  {
   "cell_type": "code",
   "execution_count": null,
   "metadata": {},
   "outputs": [],
   "source": [
    "data = preprocess_data(load_data(\"../data/Peptides_and_iRT.tsv\"))\n"
   ]
  },
  {
   "cell_type": "markdown",
   "metadata": {},
   "source": [
    "### Define the RNN and a model handler"
   ]
  },
  {
   "cell_type": "code",
   "execution_count": null,
   "metadata": {},
   "outputs": [],
   "source": [
    "rnnHandler = TorchModelHandler(RNN,     \n",
    "                               data=data, \n",
    "                               val_frac=0.15, \n",
    "                               test_frac=0.15, \n",
    "                               tokenize=True, \n",
    "                               preprocess_data=True,\n",
    "                               model_parameters=dict(embedding_dim=128,\n",
    "                                    vocab_size=100,\n",
    "                                    rnn_hidden_dim=128,\n",
    "                                    hidden_dim=128,\n",
    "                                    dropout_p=0.3),\n",
    "                               remove_non_numeric=False)"
   ]
  },
  {
   "cell_type": "code",
   "execution_count": null,
   "metadata": {},
   "outputs": [],
   "source": [
    "rnnHandler.train_eval()"
   ]
  },
  {
   "cell_type": "code",
   "execution_count": null,
   "metadata": {},
   "outputs": [],
   "source": [
    "rnnHandler.eval(rnnHandler.test_dataset)"
   ]
  },
  {
   "cell_type": "markdown",
   "metadata": {},
   "source": [
    "### Plot all predictions"
   ]
  },
  {
   "cell_type": "code",
   "execution_count": null,
   "metadata": {},
   "outputs": [],
   "source": [
    "pred = rnnHandler.predict_all()"
   ]
  },
  {
   "cell_type": "code",
   "execution_count": null,
   "metadata": {},
   "outputs": [],
   "source": [
    "plt.figure()\n",
    "\n",
    "y_true, y_pred = pred.T\n",
    "\n",
    "sns.scatterplot(y_true, y_pred , marker='+', color=\"darkred\")\n",
    "\n",
    "plt.plot([-100,150], [-100, 150], color=\"black\", lw=0.75)\n",
    "\n",
    "plt.xlabel(\"iRT measured\")\n",
    "plt.ylabel(\"iRT predicted\")\n",
    "\n",
    "\n",
    "plt.title(\"RNN predictions vs. GT\")\n",
    "plt.tight_layout()\n",
    "\n",
    "plt.show()"
   ]
  },
  {
   "cell_type": "code",
   "execution_count": null,
   "metadata": {},
   "outputs": [],
   "source": [
    "rnnHandler.dump(\"../models/rnn.pth\")"
   ]
  },
  {
   "cell_type": "code",
   "execution_count": null,
   "metadata": {},
   "outputs": [],
   "source": [
    "rnnHandler.load(\"../models/rnn.pth\")"
   ]
  },
  {
   "attachments": {},
   "cell_type": "markdown",
   "metadata": {},
   "source": [
    "<h1>\n",
    "Conclusions\n",
    "</h1>\n",
    "\n",
    "As expected, the RNN gives the best results, as it processes the peptide chains sequentially instead of simple statistics of AA counts. However, the RNN is very slow to train on a non-GPU machine and cannot be parallelized. \n"
   ]
  }
 ],
 "metadata": {
  "kernelspec": {
   "display_name": "Python 3.8.5 ('maleachi')",
   "language": "python",
   "name": "python3"
  },
  "language_info": {
   "codemirror_mode": {
    "name": "ipython",
    "version": 3
   },
   "file_extension": ".py",
   "mimetype": "text/x-python",
   "name": "python",
   "nbconvert_exporter": "python",
   "pygments_lexer": "ipython3"
  },
  "vscode": {
   "interpreter": {
    "hash": "b08f30121e66749dcbc3b1dd36e6e44a5a3035b66bc0d408f96eaf475ebf976d"
   }
  }
 },
 "nbformat": 4,
 "nbformat_minor": 2
}
